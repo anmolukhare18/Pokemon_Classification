{
  "nbformat": 4,
  "nbformat_minor": 0,
  "metadata": {
    "colab": {
      "name": "Pokemon.ipynb",
      "version": "0.3.2",
      "provenance": []
    },
    "kernelspec": {
      "name": "python3",
      "display_name": "Python 3"
    }
  },
  "cells": [
    {
      "cell_type": "code",
      "metadata": {
        "id": "OA2tQW_iZGkl",
        "colab_type": "code",
        "outputId": "f7d5cbee-0672-405f-afa3-2cef36cdffb2",
        "colab": {
          "base_uri": "https://localhost:8080/",
          "height": 34
        }
      },
      "source": [
        "import pandas as pd\n",
        "import numpy as np\n",
        "import seaborn as sns\n",
        "from sklearn.preprocessing import LabelEncoder, StandardScaler\n",
        "from sklearn.ensemble import RandomForestClassifier\n",
        "from sklearn.model_selection import train_test_split\n",
        "from sklearn.metrics import confusion_matrix, classification_report, accuracy_score\n",
        "from keras.models import Sequential\n",
        "from keras.layers import Dense, Dropout\n",
        "import matplotlib.pyplot as plt\n",
        "import warnings\n",
        "\n",
        "warnings.filterwarnings('ignore')\n",
        "%matplotlib inline"
      ],
      "execution_count": 1,
      "outputs": [
        {
          "output_type": "stream",
          "text": [
            "Using TensorFlow backend.\n"
          ],
          "name": "stderr"
        }
      ]
    },
    {
      "cell_type": "code",
      "metadata": {
        "id": "fFFOuNRtZPz0",
        "colab_type": "code",
        "colab": {}
      },
      "source": [
        "inp_data = pd.read_csv('Pokemon.csv')"
      ],
      "execution_count": 0,
      "outputs": []
    },
    {
      "cell_type": "code",
      "metadata": {
        "id": "poxL8ANLZ7HJ",
        "colab_type": "code",
        "colab": {}
      },
      "source": [
        "inp_data = inp_data.drop(['Type 2'], axis = 1)"
      ],
      "execution_count": 0,
      "outputs": []
    },
    {
      "cell_type": "code",
      "metadata": {
        "id": "oi9rbQOFZ_yZ",
        "colab_type": "code",
        "colab": {}
      },
      "source": [
        "inp_data['Legendary'] *= 1"
      ],
      "execution_count": 0,
      "outputs": []
    },
    {
      "cell_type": "code",
      "metadata": {
        "id": "mcKYiaxTanxk",
        "colab_type": "code",
        "outputId": "591599a8-a5f6-4e56-c8d7-2d76d43b99a5",
        "colab": {
          "base_uri": "https://localhost:8080/",
          "height": 289
        }
      },
      "source": [
        "inp_data.info()"
      ],
      "execution_count": 5,
      "outputs": [
        {
          "output_type": "stream",
          "text": [
            "<class 'pandas.core.frame.DataFrame'>\n",
            "RangeIndex: 634 entries, 0 to 633\n",
            "Data columns (total 11 columns):\n",
            "Name          634 non-null object\n",
            "Type 1        634 non-null object\n",
            "Total         634 non-null int64\n",
            "HP            634 non-null int64\n",
            "Attack        634 non-null int64\n",
            "Defense       634 non-null int64\n",
            "Sp. Atk       634 non-null int64\n",
            "Sp. Def       634 non-null int64\n",
            "Speed         634 non-null int64\n",
            "Generation    634 non-null int64\n",
            "Legendary     634 non-null int64\n",
            "dtypes: int64(9), object(2)\n",
            "memory usage: 54.6+ KB\n"
          ],
          "name": "stdout"
        }
      ]
    },
    {
      "cell_type": "code",
      "metadata": {
        "id": "VW60wZ7vapiE",
        "colab_type": "code",
        "colab": {}
      },
      "source": [
        "inp_data = inp_data.drop(['Name'], axis = 1)\n",
        "inp_data = inp_data.drop(['Generation'], axis = 1)\n",
        "inp_data = inp_data.drop(['Legendary'], axis = 1)\n",
        "lb_make = LabelEncoder()\n",
        "inp_data['Type 1'] = lb_make.fit_transform(inp_data['Type 1'])\n",
        "target = inp_data['Type 1']"
      ],
      "execution_count": 0,
      "outputs": []
    },
    {
      "cell_type": "code",
      "metadata": {
        "id": "M4H9G6_GiKuN",
        "colab_type": "code",
        "colab": {}
      },
      "source": [
        "target = pd.get_dummies(target, drop_first = True)"
      ],
      "execution_count": 0,
      "outputs": []
    },
    {
      "cell_type": "code",
      "metadata": {
        "id": "vyT4DoI1bQTc",
        "colab_type": "code",
        "outputId": "b7c97aee-8daf-480a-8124-3bd9032321ae",
        "colab": {
          "base_uri": "https://localhost:8080/",
          "height": 532
        }
      },
      "source": [
        "corrmat = inp_data.corr()\n",
        "f, ax = plt.subplots(figsize=(12, 9))\n",
        "sns.heatmap(corrmat, vmax=.8, square=True)\n",
        "k = 7 #number of variables for heatmap\n",
        "cols = corrmat.nlargest(k, 'Type 1')['Type 1'].index\n",
        "cm = np.corrcoef(inp_data[cols].values.T)\n",
        "sns.set(font_scale=1.25)\n",
        "hm = sns.heatmap(cm, cbar=True, annot=True, square=True, fmt='.2f', annot_kws={'size': 10}, yticklabels=cols.values, xticklabels=cols.values)\n",
        "plt.show()"
      ],
      "execution_count": 8,
      "outputs": [
        {
          "output_type": "display_data",
          "data": {
            "image/png": "[encoded data removed]",
            "text/plain": [
              "<Figure size 864x648 with 3 Axes>"
            ]
          },
          "metadata": {
            "tags": []
          }
        }
      ]
    },
    {
      "cell_type": "code",
      "metadata": {
        "id": "m_-cyyWWbRyF",
        "colab_type": "code",
        "colab": {}
      },
      "source": [
        "X_inp = inp_data.drop(['Total'], axis = 1)\n",
        "X_inp = X_inp.drop(['Type 1'], axis = 1)"
      ],
      "execution_count": 0,
      "outputs": []
    },
    {
      "cell_type": "code",
      "metadata": {
        "id": "avH_k2i5keAf",
        "colab_type": "code",
        "outputId": "9cdde5bb-c0ac-43c3-9510-4bfaeb5d982b",
        "colab": {
          "base_uri": "https://localhost:8080/",
          "height": 204
        }
      },
      "source": [
        "X_inp.head()"
      ],
      "execution_count": 10,
      "outputs": [
        {
          "output_type": "execute_result",
          "data": {
            "text/html": [
              "<div>\n",
              "<style scoped>\n",
              "    .dataframe tbody tr th:only-of-type {\n",
              "        vertical-align: middle;\n",
              "    }\n",
              "\n",
              "    .dataframe tbody tr th {\n",
              "        vertical-align: top;\n",
              "    }\n",
              "\n",
              "    .dataframe thead th {\n",
              "        text-align: right;\n",
              "    }\n",
              "</style>\n",
              "<table border=\"1\" class=\"dataframe\">\n",
              "  <thead>\n",
              "    <tr style=\"text-align: right;\">\n",
              "      <th></th>\n",
              "      <th>HP</th>\n",
              "      <th>Attack</th>\n",
              "      <th>Defense</th>\n",
              "      <th>Sp. Atk</th>\n",
              "      <th>Sp. Def</th>\n",
              "      <th>Speed</th>\n",
              "    </tr>\n",
              "  </thead>\n",
              "  <tbody>\n",
              "    <tr>\n",
              "      <th>0</th>\n",
              "      <td>45</td>\n",
              "      <td>49</td>\n",
              "      <td>65</td>\n",
              "      <td>49</td>\n",
              "      <td>65</td>\n",
              "      <td>45</td>\n",
              "    </tr>\n",
              "    <tr>\n",
              "      <th>1</th>\n",
              "      <td>60</td>\n",
              "      <td>62</td>\n",
              "      <td>80</td>\n",
              "      <td>63</td>\n",
              "      <td>80</td>\n",
              "      <td>60</td>\n",
              "    </tr>\n",
              "    <tr>\n",
              "      <th>2</th>\n",
              "      <td>80</td>\n",
              "      <td>82</td>\n",
              "      <td>100</td>\n",
              "      <td>83</td>\n",
              "      <td>100</td>\n",
              "      <td>80</td>\n",
              "    </tr>\n",
              "    <tr>\n",
              "      <th>3</th>\n",
              "      <td>39</td>\n",
              "      <td>52</td>\n",
              "      <td>43</td>\n",
              "      <td>60</td>\n",
              "      <td>50</td>\n",
              "      <td>65</td>\n",
              "    </tr>\n",
              "    <tr>\n",
              "      <th>4</th>\n",
              "      <td>58</td>\n",
              "      <td>64</td>\n",
              "      <td>58</td>\n",
              "      <td>80</td>\n",
              "      <td>65</td>\n",
              "      <td>80</td>\n",
              "    </tr>\n",
              "  </tbody>\n",
              "</table>\n",
              "</div>"
            ],
            "text/plain": [
              "   HP  Attack  Defense  Sp. Atk  Sp. Def  Speed\n",
              "0  45      49       65       49       65     45\n",
              "1  60      62       80       63       80     60\n",
              "2  80      82      100       83      100     80\n",
              "3  39      52       43       60       50     65\n",
              "4  58      64       58       80       65     80"
            ]
          },
          "metadata": {
            "tags": []
          },
          "execution_count": 10
        }
      ]
    },
    {
      "cell_type": "code",
      "metadata": {
        "id": "IRJN0znBgOCK",
        "colab_type": "code",
        "colab": {}
      },
      "source": [
        "X_train, X_test, Y_train, Y_test = train_test_split(X_inp, target, test_size = 0.30, random_state = 0)\n",
        "# scale_X = StandardScaler()\n",
        "# X_train = scale_X.fit_transform(X_train)\n",
        "# X_test = scale_X.transform(X_test)\n",
        "clf = RandomForestClassifier(n_estimators=1000)\n",
        "clf.fit(X_train, Y_train)\n",
        "pred = clf.predict(X_test)"
      ],
      "execution_count": 0,
      "outputs": []
    },
    {
      "cell_type": "code",
      "metadata": {
        "id": "hLirh5yGhPOf",
        "colab_type": "code",
        "outputId": "981f26f5-4e8b-4894-f8dc-0a076dc7385c",
        "colab": {
          "base_uri": "https://localhost:8080/",
          "height": 34
        }
      },
      "source": [
        "print(accuracy_score(Y_test, pred))"
      ],
      "execution_count": 12,
      "outputs": [
        {
          "output_type": "stream",
          "text": [
            "0.12041884816753927\n"
          ],
          "name": "stdout"
        }
      ]
    },
    {
      "cell_type": "code",
      "metadata": {
        "id": "HctbVeXrm7em",
        "colab_type": "code",
        "outputId": "cf88632b-098d-4ca7-c15b-e34535dfc1aa",
        "colab": {
          "base_uri": "https://localhost:8080/",
          "height": 88
        }
      },
      "source": [
        "# create model\n",
        "model = Sequential()\n",
        "model.add(Dense(634, input_dim = X_inp.shape[1], activation = 'relu'))\n",
        "model.add(Dense(50, activation='relu'))\n",
        "model.add(Dense(target.shape[1], activation='sigmoid'))"
      ],
      "execution_count": 14,
      "outputs": [
        {
          "output_type": "stream",
          "text": [
            "WARNING:tensorflow:From /usr/local/lib/python3.6/dist-packages/tensorflow/python/framework/op_def_library.py:263: colocate_with (from tensorflow.python.framework.ops) is deprecated and will be removed in a future version.\n",
            "Instructions for updating:\n",
            "Colocations handled automatically by placer.\n"
          ],
          "name": "stdout"
        }
      ]
    },
    {
      "cell_type": "code",
      "metadata": {
        "id": "ra28Bt_FrXeS",
        "colab_type": "code",
        "colab": {}
      },
      "source": [
        "# Compile model\n",
        "model.compile(loss='binary_crossentropy', optimizer='adam', metrics=['accuracy'])"
      ],
      "execution_count": 0,
      "outputs": []
    },
    {
      "cell_type": "code",
      "metadata": {
        "id": "RjO9pJKfrY48",
        "colab_type": "code",
        "outputId": "aba964c7-8c7e-48fc-d828-788854342663",
        "colab": {
          "base_uri": "https://localhost:8080/",
          "height": 5205
        }
      },
      "source": [
        "# Fit the model\n",
        "model.fit(X_train, Y_train, epochs=150, batch_size=10)"
      ],
      "execution_count": 16,
      "outputs": [
        {
          "output_type": "stream",
          "text": [
            "WARNING:tensorflow:From /usr/local/lib/python3.6/dist-packages/tensorflow/python/ops/math_ops.py:3066: to_int32 (from tensorflow.python.ops.math_ops) is deprecated and will be removed in a future version.\n",
            "Instructions for updating:\n",
            "Use tf.cast instead.\n",
            "Epoch 1/150\n",
            "443/443 [==============================] - 0s 843us/step - loss: 0.5400 - acc: 0.9039\n",
            "Epoch 2/150\n",
            "443/443 [==============================] - 0s 223us/step - loss: 0.2392 - acc: 0.9410\n",
            "Epoch 3/150\n",
            "443/443 [==============================] - 0s 228us/step - loss: 0.2192 - acc: 0.9428\n",
            "Epoch 4/150\n",
            "443/443 [==============================] - 0s 230us/step - loss: 0.2108 - acc: 0.9462\n",
            "Epoch 5/150\n",
            "443/443 [==============================] - 0s 243us/step - loss: 0.2075 - acc: 0.9452\n",
            "Epoch 6/150\n",
            "443/443 [==============================] - 0s 221us/step - loss: 0.1974 - acc: 0.9473\n",
            "Epoch 7/150\n",
            "443/443 [==============================] - 0s 223us/step - loss: 0.2009 - acc: 0.9461\n",
            "Epoch 8/150\n",
            "443/443 [==============================] - 0s 249us/step - loss: 0.1946 - acc: 0.9460\n",
            "Epoch 9/150\n",
            "443/443 [==============================] - 0s 217us/step - loss: 0.1974 - acc: 0.9462\n",
            "Epoch 10/150\n",
            "443/443 [==============================] - 0s 222us/step - loss: 0.1929 - acc: 0.9462\n",
            "Epoch 11/150\n",
            "443/443 [==============================] - 0s 236us/step - loss: 0.1945 - acc: 0.9454\n",
            "Epoch 12/150\n",
            "443/443 [==============================] - 0s 227us/step - loss: 0.1944 - acc: 0.9454\n",
            "Epoch 13/150\n",
            "443/443 [==============================] - 0s 217us/step - loss: 0.1867 - acc: 0.9468\n",
            "Epoch 14/150\n",
            "443/443 [==============================] - 0s 256us/step - loss: 0.1798 - acc: 0.9491\n",
            "Epoch 15/150\n",
            "443/443 [==============================] - 0s 232us/step - loss: 0.1855 - acc: 0.9466\n",
            "Epoch 16/150\n",
            "443/443 [==============================] - 0s 228us/step - loss: 0.1887 - acc: 0.9473\n",
            "Epoch 17/150\n",
            "443/443 [==============================] - 0s 235us/step - loss: 0.1789 - acc: 0.9477\n",
            "Epoch 18/150\n",
            "443/443 [==============================] - 0s 237us/step - loss: 0.1792 - acc: 0.9473\n",
            "Epoch 19/150\n",
            "443/443 [==============================] - 0s 234us/step - loss: 0.1795 - acc: 0.9464\n",
            "Epoch 20/150\n",
            "443/443 [==============================] - 0s 229us/step - loss: 0.1816 - acc: 0.9469\n",
            "Epoch 21/150\n",
            "443/443 [==============================] - 0s 217us/step - loss: 0.1748 - acc: 0.9476\n",
            "Epoch 22/150\n",
            "443/443 [==============================] - 0s 240us/step - loss: 0.1736 - acc: 0.9485\n",
            "Epoch 23/150\n",
            "443/443 [==============================] - 0s 215us/step - loss: 0.1712 - acc: 0.9483\n",
            "Epoch 24/150\n",
            "443/443 [==============================] - 0s 223us/step - loss: 0.1703 - acc: 0.9493\n",
            "Epoch 25/150\n",
            "443/443 [==============================] - 0s 244us/step - loss: 0.1673 - acc: 0.9505\n",
            "Epoch 26/150\n",
            "443/443 [==============================] - 0s 222us/step - loss: 0.1724 - acc: 0.9483\n",
            "Epoch 27/150\n",
            "443/443 [==============================] - 0s 230us/step - loss: 0.1691 - acc: 0.9476\n",
            "Epoch 28/150\n",
            "443/443 [==============================] - 0s 211us/step - loss: 0.1652 - acc: 0.9483\n",
            "Epoch 29/150\n",
            "443/443 [==============================] - 0s 207us/step - loss: 0.1626 - acc: 0.9498\n",
            "Epoch 30/150\n",
            "443/443 [==============================] - 0s 179us/step - loss: 0.1642 - acc: 0.9505\n",
            "Epoch 31/150\n",
            "443/443 [==============================] - 0s 178us/step - loss: 0.1656 - acc: 0.9494\n",
            "Epoch 32/150\n",
            "443/443 [==============================] - 0s 181us/step - loss: 0.1654 - acc: 0.9482\n",
            "Epoch 33/150\n",
            "443/443 [==============================] - 0s 178us/step - loss: 0.1667 - acc: 0.9497\n",
            "Epoch 34/150\n",
            "443/443 [==============================] - 0s 182us/step - loss: 0.1585 - acc: 0.9511\n",
            "Epoch 35/150\n",
            "443/443 [==============================] - 0s 196us/step - loss: 0.1634 - acc: 0.9501\n",
            "Epoch 36/150\n",
            "443/443 [==============================] - 0s 201us/step - loss: 0.1587 - acc: 0.9499\n",
            "Epoch 37/150\n",
            "443/443 [==============================] - 0s 187us/step - loss: 0.1586 - acc: 0.9514\n",
            "Epoch 38/150\n",
            "443/443 [==============================] - 0s 194us/step - loss: 0.1586 - acc: 0.9502\n",
            "Epoch 39/150\n",
            "443/443 [==============================] - 0s 184us/step - loss: 0.1559 - acc: 0.9506\n",
            "Epoch 40/150\n",
            "443/443 [==============================] - 0s 190us/step - loss: 0.1558 - acc: 0.9522\n",
            "Epoch 41/150\n",
            "443/443 [==============================] - 0s 185us/step - loss: 0.1637 - acc: 0.9466\n",
            "Epoch 42/150\n",
            "443/443 [==============================] - 0s 194us/step - loss: 0.1590 - acc: 0.9495\n",
            "Epoch 43/150\n",
            "443/443 [==============================] - 0s 201us/step - loss: 0.1559 - acc: 0.9519\n",
            "Epoch 44/150\n",
            "443/443 [==============================] - 0s 182us/step - loss: 0.1534 - acc: 0.9514\n",
            "Epoch 45/150\n",
            "443/443 [==============================] - 0s 191us/step - loss: 0.1488 - acc: 0.9531\n",
            "Epoch 46/150\n",
            "443/443 [==============================] - 0s 190us/step - loss: 0.1520 - acc: 0.9511\n",
            "Epoch 47/150\n",
            "443/443 [==============================] - 0s 184us/step - loss: 0.1496 - acc: 0.9514\n",
            "Epoch 48/150\n",
            "443/443 [==============================] - 0s 186us/step - loss: 0.1522 - acc: 0.9518\n",
            "Epoch 49/150\n",
            "443/443 [==============================] - 0s 191us/step - loss: 0.1495 - acc: 0.9522\n",
            "Epoch 50/150\n",
            "443/443 [==============================] - 0s 197us/step - loss: 0.1462 - acc: 0.9530\n",
            "Epoch 51/150\n",
            "443/443 [==============================] - 0s 187us/step - loss: 0.1492 - acc: 0.9507\n",
            "Epoch 52/150\n",
            "443/443 [==============================] - 0s 235us/step - loss: 0.1460 - acc: 0.9541\n",
            "Epoch 53/150\n",
            "443/443 [==============================] - 0s 185us/step - loss: 0.1486 - acc: 0.9507\n",
            "Epoch 54/150\n",
            "443/443 [==============================] - 0s 188us/step - loss: 0.1430 - acc: 0.9531\n",
            "Epoch 55/150\n",
            "443/443 [==============================] - 0s 199us/step - loss: 0.1453 - acc: 0.9534\n",
            "Epoch 56/150\n",
            "443/443 [==============================] - 0s 192us/step - loss: 0.1426 - acc: 0.9518\n",
            "Epoch 57/150\n",
            "443/443 [==============================] - 0s 215us/step - loss: 0.1558 - acc: 0.9491\n",
            "Epoch 58/150\n",
            "443/443 [==============================] - 0s 195us/step - loss: 0.1436 - acc: 0.9533\n",
            "Epoch 59/150\n",
            "443/443 [==============================] - 0s 207us/step - loss: 0.1452 - acc: 0.9505\n",
            "Epoch 60/150\n",
            "443/443 [==============================] - 0s 195us/step - loss: 0.1407 - acc: 0.9537\n",
            "Epoch 61/150\n",
            "443/443 [==============================] - 0s 187us/step - loss: 0.1394 - acc: 0.9550\n",
            "Epoch 62/150\n",
            "443/443 [==============================] - 0s 195us/step - loss: 0.1418 - acc: 0.9535\n",
            "Epoch 63/150\n",
            "443/443 [==============================] - 0s 187us/step - loss: 0.1409 - acc: 0.9553\n",
            "Epoch 64/150\n",
            "443/443 [==============================] - 0s 193us/step - loss: 0.1418 - acc: 0.9542\n",
            "Epoch 65/150\n",
            "443/443 [==============================] - 0s 195us/step - loss: 0.1355 - acc: 0.9566\n",
            "Epoch 66/150\n",
            "443/443 [==============================] - 0s 192us/step - loss: 0.1367 - acc: 0.9554\n",
            "Epoch 67/150\n",
            "443/443 [==============================] - 0s 202us/step - loss: 0.1378 - acc: 0.9545\n",
            "Epoch 68/150\n",
            "443/443 [==============================] - 0s 186us/step - loss: 0.1381 - acc: 0.9541\n",
            "Epoch 69/150\n",
            "443/443 [==============================] - 0s 193us/step - loss: 0.1379 - acc: 0.9563\n",
            "Epoch 70/150\n",
            "443/443 [==============================] - 0s 187us/step - loss: 0.1379 - acc: 0.9556\n",
            "Epoch 71/150\n",
            "443/443 [==============================] - 0s 207us/step - loss: 0.1350 - acc: 0.9560\n",
            "Epoch 72/150\n",
            "443/443 [==============================] - 0s 183us/step - loss: 0.1354 - acc: 0.9551\n",
            "Epoch 73/150\n",
            "443/443 [==============================] - 0s 183us/step - loss: 0.1328 - acc: 0.9568\n",
            "Epoch 74/150\n",
            "443/443 [==============================] - 0s 180us/step - loss: 0.1301 - acc: 0.9571\n",
            "Epoch 75/150\n",
            "443/443 [==============================] - 0s 186us/step - loss: 0.1291 - acc: 0.9588\n",
            "Epoch 76/150\n",
            "443/443 [==============================] - 0s 179us/step - loss: 0.1293 - acc: 0.9570\n",
            "Epoch 77/150\n",
            "443/443 [==============================] - 0s 207us/step - loss: 0.1289 - acc: 0.9580\n",
            "Epoch 78/150\n",
            "443/443 [==============================] - 0s 216us/step - loss: 0.1276 - acc: 0.9590\n",
            "Epoch 79/150\n",
            "443/443 [==============================] - 0s 186us/step - loss: 0.1290 - acc: 0.9582\n",
            "Epoch 80/150\n",
            "443/443 [==============================] - 0s 185us/step - loss: 0.1300 - acc: 0.9578\n",
            "Epoch 81/150\n",
            "443/443 [==============================] - 0s 197us/step - loss: 0.1309 - acc: 0.9580\n",
            "Epoch 82/150\n",
            "443/443 [==============================] - 0s 200us/step - loss: 0.1277 - acc: 0.9580\n",
            "Epoch 83/150\n",
            "443/443 [==============================] - 0s 196us/step - loss: 0.1259 - acc: 0.9587\n",
            "Epoch 84/150\n",
            "443/443 [==============================] - 0s 176us/step - loss: 0.1280 - acc: 0.9576\n",
            "Epoch 85/150\n",
            "443/443 [==============================] - 0s 190us/step - loss: 0.1288 - acc: 0.9578\n",
            "Epoch 86/150\n",
            "443/443 [==============================] - 0s 203us/step - loss: 0.1267 - acc: 0.9584\n",
            "Epoch 87/150\n",
            "443/443 [==============================] - 0s 181us/step - loss: 0.1247 - acc: 0.9586\n",
            "Epoch 88/150\n",
            "443/443 [==============================] - 0s 200us/step - loss: 0.1300 - acc: 0.9551\n",
            "Epoch 89/150\n",
            "443/443 [==============================] - 0s 187us/step - loss: 0.1256 - acc: 0.9586\n",
            "Epoch 90/150\n",
            "443/443 [==============================] - 0s 181us/step - loss: 0.1262 - acc: 0.9584\n",
            "Epoch 91/150\n",
            "443/443 [==============================] - 0s 187us/step - loss: 0.1229 - acc: 0.9586\n",
            "Epoch 92/150\n",
            "443/443 [==============================] - 0s 203us/step - loss: 0.1207 - acc: 0.9596\n",
            "Epoch 93/150\n",
            "443/443 [==============================] - 0s 192us/step - loss: 0.1220 - acc: 0.9591\n",
            "Epoch 94/150\n",
            "443/443 [==============================] - 0s 183us/step - loss: 0.1208 - acc: 0.9592\n",
            "Epoch 95/150\n",
            "443/443 [==============================] - 0s 181us/step - loss: 0.1182 - acc: 0.9598\n",
            "Epoch 96/150\n",
            "443/443 [==============================] - 0s 193us/step - loss: 0.1217 - acc: 0.9606\n",
            "Epoch 97/150\n",
            "443/443 [==============================] - 0s 202us/step - loss: 0.1184 - acc: 0.9595\n",
            "Epoch 98/150\n",
            "443/443 [==============================] - 0s 194us/step - loss: 0.1222 - acc: 0.9583\n",
            "Epoch 99/150\n",
            "443/443 [==============================] - 0s 188us/step - loss: 0.1207 - acc: 0.9591\n",
            "Epoch 100/150\n",
            "443/443 [==============================] - 0s 193us/step - loss: 0.1207 - acc: 0.9604\n",
            "Epoch 101/150\n",
            "443/443 [==============================] - 0s 186us/step - loss: 0.1215 - acc: 0.9582\n",
            "Epoch 102/150\n",
            "443/443 [==============================] - 0s 196us/step - loss: 0.1156 - acc: 0.9595\n",
            "Epoch 103/150\n",
            "443/443 [==============================] - 0s 208us/step - loss: 0.1178 - acc: 0.9603\n",
            "Epoch 104/150\n",
            "443/443 [==============================] - 0s 192us/step - loss: 0.1196 - acc: 0.9598\n",
            "Epoch 105/150\n",
            "443/443 [==============================] - 0s 205us/step - loss: 0.1152 - acc: 0.9607\n",
            "Epoch 106/150\n",
            "443/443 [==============================] - 0s 189us/step - loss: 0.1203 - acc: 0.9590\n",
            "Epoch 107/150\n",
            "443/443 [==============================] - 0s 188us/step - loss: 0.1159 - acc: 0.9602\n",
            "Epoch 108/150\n",
            "443/443 [==============================] - 0s 188us/step - loss: 0.1159 - acc: 0.9610\n",
            "Epoch 109/150\n",
            "443/443 [==============================] - 0s 199us/step - loss: 0.1117 - acc: 0.9627\n",
            "Epoch 110/150\n",
            "443/443 [==============================] - 0s 192us/step - loss: 0.1133 - acc: 0.9608\n",
            "Epoch 111/150\n",
            "443/443 [==============================] - 0s 203us/step - loss: 0.1145 - acc: 0.9595\n",
            "Epoch 112/150\n",
            "443/443 [==============================] - 0s 184us/step - loss: 0.1166 - acc: 0.9591\n",
            "Epoch 113/150\n",
            "443/443 [==============================] - 0s 194us/step - loss: 0.1115 - acc: 0.9615\n",
            "Epoch 114/150\n",
            "443/443 [==============================] - 0s 181us/step - loss: 0.1117 - acc: 0.9611\n",
            "Epoch 115/150\n",
            "443/443 [==============================] - 0s 207us/step - loss: 0.1118 - acc: 0.9611\n",
            "Epoch 116/150\n",
            "443/443 [==============================] - 0s 180us/step - loss: 0.1144 - acc: 0.9618\n",
            "Epoch 117/150\n",
            "443/443 [==============================] - 0s 178us/step - loss: 0.1144 - acc: 0.9607\n",
            "Epoch 118/150\n",
            "443/443 [==============================] - 0s 185us/step - loss: 0.1108 - acc: 0.9620\n",
            "Epoch 119/150\n",
            "443/443 [==============================] - 0s 185us/step - loss: 0.1096 - acc: 0.9619\n",
            "Epoch 120/150\n",
            "443/443 [==============================] - 0s 196us/step - loss: 0.1091 - acc: 0.9619\n",
            "Epoch 121/150\n",
            "443/443 [==============================] - 0s 175us/step - loss: 0.1089 - acc: 0.9635\n",
            "Epoch 122/150\n",
            "443/443 [==============================] - 0s 199us/step - loss: 0.1068 - acc: 0.9628\n",
            "Epoch 123/150\n",
            "443/443 [==============================] - 0s 174us/step - loss: 0.1055 - acc: 0.9640\n",
            "Epoch 124/150\n",
            "443/443 [==============================] - 0s 178us/step - loss: 0.1066 - acc: 0.9622\n",
            "Epoch 125/150\n",
            "443/443 [==============================] - 0s 178us/step - loss: 0.1069 - acc: 0.9624\n",
            "Epoch 126/150\n",
            "443/443 [==============================] - 0s 188us/step - loss: 0.1066 - acc: 0.9627\n",
            "Epoch 127/150\n",
            "443/443 [==============================] - 0s 198us/step - loss: 0.1049 - acc: 0.9635\n",
            "Epoch 128/150\n",
            "443/443 [==============================] - 0s 207us/step - loss: 0.1059 - acc: 0.9628\n",
            "Epoch 129/150\n",
            "443/443 [==============================] - 0s 181us/step - loss: 0.1043 - acc: 0.9634\n",
            "Epoch 130/150\n",
            "443/443 [==============================] - 0s 184us/step - loss: 0.1048 - acc: 0.9631\n",
            "Epoch 131/150\n",
            "443/443 [==============================] - 0s 185us/step - loss: 0.1060 - acc: 0.9651\n",
            "Epoch 132/150\n",
            "443/443 [==============================] - 0s 191us/step - loss: 0.1108 - acc: 0.9626\n",
            "Epoch 133/150\n",
            "443/443 [==============================] - 0s 194us/step - loss: 0.1094 - acc: 0.9607\n",
            "Epoch 134/150\n",
            "443/443 [==============================] - 0s 169us/step - loss: 0.1106 - acc: 0.9618\n",
            "Epoch 135/150\n",
            "443/443 [==============================] - 0s 196us/step - loss: 0.1057 - acc: 0.9631\n",
            "Epoch 136/150\n",
            "443/443 [==============================] - 0s 189us/step - loss: 0.1044 - acc: 0.9632\n",
            "Epoch 137/150\n",
            "443/443 [==============================] - 0s 192us/step - loss: 0.1006 - acc: 0.9644\n",
            "Epoch 138/150\n",
            "443/443 [==============================] - 0s 195us/step - loss: 0.1030 - acc: 0.9624\n",
            "Epoch 139/150\n",
            "443/443 [==============================] - 0s 180us/step - loss: 0.1008 - acc: 0.9648\n",
            "Epoch 140/150\n",
            "443/443 [==============================] - 0s 197us/step - loss: 0.1061 - acc: 0.9636\n",
            "Epoch 141/150\n",
            "443/443 [==============================] - 0s 188us/step - loss: 0.1052 - acc: 0.9615\n",
            "Epoch 142/150\n",
            "443/443 [==============================] - 0s 188us/step - loss: 0.1007 - acc: 0.9657\n",
            "Epoch 143/150\n",
            "443/443 [==============================] - 0s 188us/step - loss: 0.1004 - acc: 0.9648\n",
            "Epoch 144/150\n",
            "443/443 [==============================] - 0s 188us/step - loss: 0.1012 - acc: 0.9632\n",
            "Epoch 145/150\n",
            "443/443 [==============================] - 0s 193us/step - loss: 0.1017 - acc: 0.9632\n",
            "Epoch 146/150\n",
            "443/443 [==============================] - 0s 181us/step - loss: 0.1049 - acc: 0.9630\n",
            "Epoch 147/150\n",
            "443/443 [==============================] - 0s 180us/step - loss: 0.1022 - acc: 0.9647\n",
            "Epoch 148/150\n",
            "443/443 [==============================] - 0s 194us/step - loss: 0.1037 - acc: 0.9635\n",
            "Epoch 149/150\n",
            "443/443 [==============================] - 0s 188us/step - loss: 0.0961 - acc: 0.9657\n",
            "Epoch 150/150\n",
            "443/443 [==============================] - 0s 186us/step - loss: 0.0969 - acc: 0.9661\n"
          ],
          "name": "stdout"
        },
        {
          "output_type": "execute_result",
          "data": {
            "text/plain": [
              "<keras.callbacks.History at 0x7f15c08b5278>"
            ]
          },
          "metadata": {
            "tags": []
          },
          "execution_count": 16
        }
      ]
    },
    {
      "cell_type": "code",
      "metadata": {
        "id": "D4G86GBbri0O",
        "colab_type": "code",
        "outputId": "ab9d9fbe-7e1d-4864-ff3c-f69e9858930d",
        "colab": {
          "base_uri": "https://localhost:8080/",
          "height": 68
        }
      },
      "source": [
        "# evaluate the model\n",
        "scores = model.evaluate(X_train, Y_train)\n",
        "print(\"\\n%s: %.2f%%\" % (model.metrics_names[1], scores[1]*100))"
      ],
      "execution_count": 17,
      "outputs": [
        {
          "output_type": "stream",
          "text": [
            "443/443 [==============================] - 0s 123us/step\n",
            "\n",
            "acc: 96.56%\n"
          ],
          "name": "stdout"
        }
      ]
    }
  ]
}